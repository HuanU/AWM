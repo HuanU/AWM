{
 "cells": [
  {
   "cell_type": "code",
   "execution_count": 134,
   "metadata": {},
   "outputs": [],
   "source": [
    "#Authors: Eli Gumble, Peter Brommer, Harry Brown\n",
    "#Initialisation\n",
    "import matplotlib.pyplot as plt\n",
    "import numpy as np\n",
    "#from scipy.integrate import simps\n",
    "from scipy import signal as sg\n",
    "from scipy.interpolate import RectBivariateSpline as ReBiSpline \n",
    "from numpy import ma\n",
    "#from matplotlib import colors, ticker, cm\n",
    "#from random import choice\n",
    "import scipy.ndimage.filters as filters\n",
    "import scipy.ndimage.morphology as morphology\n",
    "import timeit\n",
    "import math\n",
    "#from PIL import Image\n",
    "\n",
    "import matplotlib.image as image2\n",
    "import itertools\n",
    "from scipy import ndimage\n",
    "import multiprocessing\n",
    "from multiprocessing import Pool\n",
    "import multiprocessedfunctions as mpf\n",
    "import multiprocessedfunctions2 as mpf2\n",
    "from globalparameters import * # parameters below have been relocated into globalparameters.py\n",
    "#from scipy import stats\n",
    "#import statistics\n",
    "from datetime import datetime\n",
    "import time\n",
    "\n",
    "\n",
    "%matplotlib inline"
   ]
  },
  {
   "cell_type": "code",
   "execution_count": 135,
   "metadata": {},
   "outputs": [],
   "source": [
    "# Read grids from image\n",
    "#im = Image.open(\"belgiumtest.bmp\")\n",
    "#Base = np.array(im)\n",
    "\n",
    "#im = image2.imread(\"belgiumtestorig2x.bmp\")\n",
    "im = image2.imread(\"empty800x800grass.bmp\")\n",
    "Base = np.array(im)\n"
   ]
  },
  {
   "cell_type": "code",
   "execution_count": 136,
   "metadata": {},
   "outputs": [],
   "source": [
    "\n",
    "#print(Base[0,0,1])\n",
    "#Base = np.where(Base[:,:,0]==43, 0, Base)\n",
    "#Base\n",
    "\n",
    "#                        [[r, g, r2, g2]...]     description\n",
    "landcoverlist = np.array([[22, 95, 0, 0],           # water\n",
    "                          [209, 209, 150, 150],       # bare floor\n",
    "                          [139, 139, 175, 175],     # artificial surface\n",
    "                          [221, 5, 0, 0],           # building\n",
    "                          #[0, 0, 0, 0],            # herbaceous cover in rotation throughout year\n",
    "                          [234, 255, 60, 175],       # herbaceous cover (grass)\n",
    "                          [40, 202, 60, 80],        # tall hardwood > 3m\n",
    "                          [185, 233, 40, 80],       # short hardwood < 3m\n",
    "                          [1, 47, 65, 80],          # tall softwood > 3m\n",
    "                          #[0, 0, 0, 0],            # short softwood < 3m\n",
    "                          [43, 80, 0, 0]])          # boundary\n",
    "                                        \n",
    "#len(landcoverlist)\n",
    "\n",
    "for k in range (len(landcoverlist)):\n",
    "    for i in range(len(Base)):             #vertical pixels\n",
    "        for j in range(len(Base[0])):      #horizontal pixels\n",
    "            if Base[i][j][0] == landcoverlist[k,0] and Base[i][j][1] == landcoverlist[k,1]:\n",
    "                Base[i][j] = [landcoverlist[k,2],landcoverlist[k,3],0,255]\n"
   ]
  },
  {
   "cell_type": "code",
   "execution_count": 137,
   "metadata": {},
   "outputs": [],
   "source": [
    "Base[:,:,2] = 0 #set all pixel B values to 0\n",
    "\n",
    "Base[:,:,3] = 255 #set all of the 4th rgb element to 255 because things might break otherwise"
   ]
  },
  {
   "cell_type": "code",
   "execution_count": 138,
   "metadata": {},
   "outputs": [
    {
     "data": {
      "text/plain": [
       "'\\n#parameters\\nt_track=50. # Track decay time - after 50 walkers ignore a trail, it decays by 1/e\\nwlkr_range = 10000\\ndt=0.1  # dt per time step, continuous markings every dt metres\\ndvel=1. # desired walker velocity in m/s\\ntau=5.\\nisigma=0.5 # trail potential\\ntrailpotweight = 0.004 # weighting of trail potential over destination potential, started as 0.003, increasing this increases number of stalls\\nstoredtrailpotweight = trailpotweight\\nconv_thresh=10.e-4\\nprecision=1.**2 #distance to target.\\neps=0.025 #random motion contribution, same for all\\n'"
      ]
     },
     "execution_count": 138,
     "metadata": {},
     "output_type": "execute_result"
    }
   ],
   "source": [
    "# Define internal quantities and variables\n",
    "scale = 1./2. #m per pixel\n",
    "Nx = Base[:,0,0].size #N appears to be resolution\n",
    "Ny = Base[0,:,0].size\n",
    "xmin=-scale*0.5*(Nx-1)\n",
    "xmax=scale*0.5*(Nx-1)\n",
    "ymin=-scale*0.5*(Ny-1)\n",
    "ymax=scale*0.5*(Ny-1)\n",
    "x = np.linspace(xmin, xmax, Nx) # This is defining the axes and full space\n",
    "y = np.linspace(ymin, ymax, Ny)\n",
    "Y, X= np.meshgrid(y, x)\n",
    "TrailPotential = np.zeros((Nx,Ny))\n",
    "DestinationPotential=np.zeros((Nx,Ny))\n",
    "Weight=np.zeros((Nx,Ny))  # Create gradient to sit on Nx, Ny\n",
    "intens=np.zeros((Nx,Ny))\n",
    "q_alpha=np.zeros((Nx,Ny))\n",
    "expdist=np.zeros((2*Nx-1,2*Ny-1))\n",
    "dest=np.zeros((2))\n",
    "start=np.zeros((2))\n",
    "grad=np.zeros((2,Nx,Ny))\n",
    "vel=np.asarray([0.,0.])\n",
    "pos=np.asarray([0.,0.])\n",
    "stalledpos = [] # empty container for stalled positions of walkers\n",
    "stalledposrounded = []\n",
    "\n",
    "intens[:]=0.\n",
    "\n",
    "#print(route)\n",
    "'''\n",
    "#parameters\n",
    "t_track=50. # Track decay time - after 50 walkers ignore a trail, it decays by 1/e\n",
    "wlkr_range = 10000\n",
    "dt=0.1  # dt per time step, continuous markings every dt metres\n",
    "dvel=1. # desired walker velocity in m/s\n",
    "tau=5.\n",
    "isigma=0.5 # trail potential\n",
    "trailpotweight = 0.004 # weighting of trail potential over destination potential, started as 0.003, increasing this increases number of stalls\n",
    "storedtrailpotweight = trailpotweight\n",
    "conv_thresh=10.e-4\n",
    "precision=1.**2 #distance to target.\n",
    "eps=0.025 #random motion contribution, same for all\n",
    "'''"
   ]
  },
  {
   "cell_type": "code",
   "execution_count": 139,
   "metadata": {},
   "outputs": [
    {
     "name": "stdout",
     "output_type": "stream",
     "text": [
      "[]\n"
     ]
    }
   ],
   "source": [
    "##Set up map\n",
    "#Create blank arrays for map \n",
    "z = np.zeros((Nx,Ny))\n",
    "g_max=np.zeros((Nx,Ny))\n",
    "g_nat=np.zeros((Nx,Ny))\n",
    "\n",
    "g_nat=np.maximum(np.ones_like(g_nat),np.float64(Base[:,:,0]))\n",
    "g_max=np.maximum(np.ones_like(g_max),np.float64(Base[:,:,1]))\n",
    "z=g_nat\n",
    "\n",
    "track_labels=Base[:,:,2]\n",
    "\n",
    "numpoints=np.max(track_labels)\n",
    "\n",
    "point=np.zeros((numpoints,2))\n",
    "\n",
    "for i in range(0,Nx):\n",
    "    for j in range(0,Ny):\n",
    "        if (track_labels[i,j]>0):\n",
    "            point[track_labels[i,j]-1]=np.array([i,j])\n",
    "print (point)\n",
    "\n",
    "# Trails (start and end point) For current Map, coordinates in metres, centre of image = (0,0)\n",
    "\n",
    "# single possible path\n",
    "# route=np.array([[24.,-9.75],[-24.,9.75]]),\n"
   ]
  },
  {
   "cell_type": "code",
   "execution_count": 140,
   "metadata": {},
   "outputs": [],
   "source": [
    "\n",
    "# big field with tennis court parking lot and hospital, near rue cottrel\n",
    "ptA = [-40.,-240.]      # tennis court near middle\n",
    "ptB = [-250.,-200.]     # tennis court near skatepark\n",
    "#ptC = [-350., 25.]     # parking lot entrance >>>>>>>>>>>>> removed because its very close to ptD, won't give interesting information, not worth computational work\n",
    "ptD = [-350., 80.]      # parking lot bus stop\n",
    "ptE = [-70., 230.]      # east road pedestrian entrance\n",
    "ptF = [200., 200.]      # hospital bus stop\n",
    "ptG = [250., 100.]      # hospital side path\n",
    "ptH = [350., -100.]     # dirt car park\n",
    "ptI = [210., -140.]     # west side entrance\n",
    "\n",
    "#listofdestinations = [ptA,ptB,ptD,ptE,ptF,ptG,ptH,ptI,ptA,ptB,ptD,ptE,ptF,ptG,ptH,ptI] # list is repeated so that the combinations function below generates not only AB but BA\n",
    "listofdestinations = [[0,50],[-10,-50],[10,-50],[0,50],[-10,-50],[10,-50]]\n",
    "route = []\n",
    "\n",
    "# should probably turn all of this into a function\n",
    "\n",
    "# generate routes\n",
    "for i in itertools.combinations(listofdestinations, 2):\n",
    "    route.append(i)\n",
    "\n",
    "# remove duplicate routes https://stackoverflow.com/questions/2213923/removing-duplicates-from-a-list-of-lists\n",
    "routetemp = []\n",
    "for i in route:\n",
    "    if i not in routetemp:\n",
    "        routetemp.append(i)\n",
    "route = routetemp\n",
    "\n",
    "# delete AA, BB, CC routes\n",
    "zzzzz = -1\n",
    "for row in route:\n",
    "    zzzzz+=1\n",
    "    if row[0] == row[1]:\n",
    "        route.pop(zzzzz)\n",
    "\n",
    "routearray = np.empty((len(route),2,2))\n",
    "\n",
    "# convert list of lists to 3d array\n",
    "for k in range(len(route)):\n",
    "    for i in range(2):\n",
    "        for j in range(2):\n",
    "            routearray[k][i][j] = route[k][i][j]\n",
    "\n",
    "route = routearray # convert routearray back to variable name understood by code\n",
    "#route = [[[0,100],[-25,0]],[[0,100],[25,0]]]"
   ]
  },
  {
   "cell_type": "code",
   "execution_count": 141,
   "metadata": {},
   "outputs": [],
   "source": [
    "\n",
    "#for i in listofdestinations\n",
    "#    route[i,0:len(listofdestinations)] = listofdestinations[i]\n",
    "\n",
    "# small field by apartment with 4 entrances \n",
    "#posA = [-5., -17.]\n",
    "#posB = [-25., -17.]\n",
    "#posC = [-25., 8.]\n",
    "#posD = [40., 10.]\n",
    "\n",
    "# acceptable routes = A/B to C, A/C to D and vice versa, 8 total routes\n",
    "#route=np.array([[posA,posC],\n",
    "#                 [posB,posC],\n",
    "#                 [posC,posA],\n",
    "#                 [posC,posD],\n",
    "#                 [posA,posC],\n",
    "#                 [posC,posD],\n",
    "#                 [posD,posA],\n",
    "#                 [posD,posC],\n",
    "#                 ])\n"
   ]
  },
  {
   "cell_type": "code",
   "execution_count": 142,
   "metadata": {},
   "outputs": [],
   "source": [
    "#Setup weight matrix, here trapezoid rule.\n",
    "Weight[:,:]=1\n",
    "Weight[1:-1,:]=2\n",
    "Weight[:,1:-1]=2\n",
    "Weight[1:-1,1:-1]=4\n",
    "Weight*=0.25*((x[-1]-x[0])/(Nx-1))*((y[-1]-y[0])/(Ny-1))\n",
    "#0.25*((x[-1]-x[0])/(N-1))*((y[-1]-y[0])/(N-1))\n",
    "#np.exp(-np.sqrt((x[:,None]-x[N/2])**2+(y[None,:]-y[N/2])**2))*z[:,:]"
   ]
  },
  {
   "cell_type": "code",
   "execution_count": 143,
   "metadata": {},
   "outputs": [
    {
     "data": {
      "text/plain": [
       "(55, 55)"
      ]
     },
     "execution_count": 143,
     "metadata": {},
     "output_type": "execute_result"
    }
   ],
   "source": [
    "# Setup distance matrix\n",
    "for xi in range(1,Nx+1):\n",
    "    for yi in range(1,Ny+1):\n",
    "        \n",
    "        expdist[xi-1,yi-1]=np.exp(-isigma*np.sqrt((x[Nx-xi]-xmin)**2+(y[Ny-yi]-ymin)**2))\n",
    "        expdist[-xi,-yi]  = expdist[xi-1,yi-1]\n",
    "        expdist[-xi,yi-1] = expdist[xi-1,yi-1]\n",
    "        expdist[xi-1,-yi] = expdist[xi-1,yi-1]\n",
    "        \n",
    "# find index range > conv_thresh\n",
    "subexpdist=expdist[(expdist>conv_thresh).any(1)]\n",
    "subexpdist=subexpdist[:, np.any(subexpdist>conv_thresh, axis=0)]\n",
    "#subexpdist=subexpdist[:,np.any(subexpdist>conv_thresh, axis=0)]\n",
    "#expdist[subexpdist]=0.\n",
    "subexpdist.shape\n",
    "#expdist\n",
    "#subexpdist\n"
   ]
  },
  {
   "cell_type": "code",
   "execution_count": 144,
   "metadata": {},
   "outputs": [],
   "source": [
    "def calc_tr_new():\n",
    "    TrailPotential[:,:]=sg.convolve2d(z[:,:]*Weight[:,:],subexpdist[:,:],mode=\"same\")  # 2D convolution"
   ]
  },
  {
   "cell_type": "code",
   "execution_count": 145,
   "metadata": {},
   "outputs": [
    {
     "data": {
      "text/plain": [
       "800"
      ]
     },
     "execution_count": 145,
     "metadata": {},
     "output_type": "execute_result"
    }
   ],
   "source": [
    "len(TrailPotential)"
   ]
  },
  {
   "cell_type": "code",
   "execution_count": 146,
   "metadata": {},
   "outputs": [],
   "source": [
    "def calc_tr_gauss():\n",
    "    TrailPotential[:,:]=ndimage.gaussian_filter(z[:,:], 1, 0) #,TrailPotential,mode='nearest')"
   ]
  },
  {
   "cell_type": "code",
   "execution_count": 147,
   "metadata": {},
   "outputs": [],
   "source": [
    "#Integrate z, trapezoid rule eq 20\n",
    "#def calc_tr():\n",
    "#    global xi,yi,tr,expdist,z,wght,Nx,Ny\n",
    "#    for xi in range(0,Nx): \n",
    "#        for yi in range(0,Ny):\n",
    "#            tr[xi,yi]=np.sum(expdist[Nx-1-xi:2*Nx-1-xi,Ny-1-yi:2*Ny-1-yi]*z[:,:]*wght[:,:])"
   ]
  },
  {
   "cell_type": "code",
   "execution_count": 148,
   "metadata": {},
   "outputs": [
    {
     "data": {
      "text/plain": [
       "11.876699599999483"
      ]
     },
     "execution_count": 148,
     "metadata": {},
     "output_type": "execute_result"
    }
   ],
   "source": [
    "timeit.timeit(calc_tr_new,number=1)"
   ]
  },
  {
   "cell_type": "code",
   "execution_count": 149,
   "metadata": {},
   "outputs": [
    {
     "data": {
      "image/png": "[encoded data removed]",
      "text/plain": [
       "<Figure size 432x288 with 2 Axes>"
      ]
     },
     "metadata": {
      "needs_background": "light"
     },
     "output_type": "display_data"
    }
   ],
   "source": [
    "# Defines a Plot to show the smoothing of the supplied map to represent the respective potentials of the ground, the larger\n",
    "# the potentials, the more attractive the ground is to the walker\n",
    "\n",
    "cs = plt.contourf(X, Y, TrailPotential, levels=np.linspace(TrailPotential.min(),TrailPotential.max(),1000),cmap='PuBu_r')\n",
    "cbar = plt.colorbar()\n",
    "\n",
    "plt.show()\n",
    "#plt.scatter(track[0:wlkr_range-1,0],track[0:wlkr_range-1,1])"
   ]
  },
  {
   "cell_type": "code",
   "execution_count": 150,
   "metadata": {},
   "outputs": [],
   "source": [
    "#set up walker\n",
    "def set_up_walker(route_id):\n",
    "    global vel, pos, track, dest, start, route\n",
    "    #start\n",
    "    dispersion = 5 # length away from start point walkers are allowed to spawn, measured in m\n",
    "\n",
    "    start = np.array(route[route_id, 0, :]) # commented for simplicity\n",
    "    start[0] += np.random.randint(-dispersion, dispersion+1) # adds dispersion to x\n",
    "    start[1] += np.random.randint(-dispersion, dispersion+1) # adds dispersion to y\n",
    "    # start = np.array([24.,-9.75])  # temporary one route\n",
    "    # dest = np.array([-24.,9.75])  # temporary one route\n",
    "    # dest=(random.choice(ends))\n",
    "    dest = np.array(route[route_id, 1, :]) # commented for simplicity\n",
    "    dest[0] += np.random.randint(-dispersion, dispersion+1)\n",
    "    dest[1] += np.random.randint(-dispersion, dispersion+1)\n",
    "    vel = np.array([0., 0.])\n",
    "    pos = np.array(start)\n",
    "    #print (pos)\n",
    "    track = np.zeros((wlkr_range, 2))\n",
    "    #track[0,:]=pos[:]"
   ]
  },
  {
   "cell_type": "code",
   "execution_count": 151,
   "metadata": {},
   "outputs": [],
   "source": [
    "#Calculate gradients eq 19\n",
    "#Trail gradient\n",
    "def setup_potentials():\n",
    "    global grad,desdirx,desdiry,dest,trailpotweight\n",
    "    grad=np.zeros((2,Nx,Ny))\n",
    "    grad=trailpotweight*np.array(np.gradient(TrailPotential))\n",
    "    #grad=0.002*np.array(np.gradient(TrailPotential)) ORIGINAL\n",
    "    \n",
    "    #print (dest)\n",
    "    #Destination potential\n",
    "    DestinationPotential=-np.sqrt((dest[0]-x[:,None])**2+(dest[1]-y[None,:])**2)\n",
    "    #Combine gradients\n",
    "    grad+=np.array(np.gradient(DestinationPotential)[:])\n",
    "    #Normalise\n",
    "    #grad[:,:,:]/=(np.sqrt(grad[0,:,:]**2+grad[1,:,:]**2))\n",
    "    desdirx=ReBiSpline(x,y,grad[0,:,:],s=2) # gradeint plus magnitude, Spline approximation over a rectangular mesh\n",
    "    desdiry=ReBiSpline(x,y,grad[1,:,:],s=2) \n",
    "    #plot()\n",
    "    #print(grad)"
   ]
  },
  {
   "cell_type": "code",
   "execution_count": 152,
   "metadata": {},
   "outputs": [],
   "source": [
    "# #Plot the direction\n",
    "# scgrad=np.arctan2(grad[1],grad[0])\n",
    "# levels = np.linspace(-np.pi, np.pi, 360)\n",
    "# cs = plt.contourf(X, Y,scgrad, levels=levels,cmap='hsv')\n",
    "\n",
    "# cbar = plt.colorbar()\n",
    "# # ERROR # plt.scatter(track[0:wlkr_range-1,0],track[0:wlkr_range-1,1])\n",
    "# #plt.scatter(start, dest)\n",
    "# print(start)\n",
    "# print(dest)\n",
    "# plt.show()"
   ]
  },
  {
   "cell_type": "code",
   "execution_count": 153,
   "metadata": {},
   "outputs": [],
   "source": [
    "# This function rounds a point, and checks if it is already in the list of rounded points\n",
    "# If its already in the list it, it increases the count value for that point by 1\n",
    "# If its not in the list, it adds it to the list with a count of 1\n",
    "\n",
    "def stalledposregioncounter(newpos,stalledposrounded2):\n",
    "    nearest = 5\n",
    "    newposxrounded = round(newpos[0]/nearest)*nearest # round x\n",
    "    newposyrounded = round(newpos[1]/nearest)*nearest # round y\n",
    "\n",
    "    newposrounded = {\"x\":newposxrounded,\"y\":newposyrounded,\"count\":1}\n",
    "    \n",
    "    for i in stalledposrounded2:\n",
    "        if i[\"x\"] == newposrounded[\"x\"] and i[\"y\"] == newposrounded[\"y\"]:\n",
    "            i[\"count\"]+=1\n",
    "            return stalledposrounded2\n",
    "    stalledposrounded2.append(newposrounded)\n",
    "    return stalledposrounded2"
   ]
  },
  {
   "cell_type": "code",
   "execution_count": 154,
   "metadata": {},
   "outputs": [],
   "source": [
    "def calc_path():\n",
    "    global pos,vel,intens,track,dest,dvel,tau,stalledpos,stalledposrounded,trailpotweight,storedtrailpotweight\n",
    "    \n",
    "    i=0\n",
    "    hist=10\n",
    "    samp=10\n",
    "    avpos=np.zeros((2,hist))\n",
    "    internalclock = 0 # not measured in seconds, probably measured in 'dt's\n",
    "    stallcounter = 0\n",
    "    trailpotweight = 0.004 # weighting of trail potential over destination potential, started as 0.003, increasing this increases number of stalls\n",
    "    storedtrailpotweight = trailpotweight\n",
    "\n",
    "    # https://www.programiz.com/python-programming/datetime/current-time\n",
    "    #now = datetime.now()\n",
    "    #current_time = now.strftime(\"%H:%M:%S\")\n",
    "    #print(\"Calc path entered, time =\", current_time)\n",
    "\n",
    "    #Setup While loop to run until either the walker reaches the destination or the walker has passed 'wlkr_range' number of movement cycles to \n",
    "    #attempt to get there\n",
    "    while (np.dot(pos-dest,pos-dest)>precision and i<wlkr_range):\n",
    "    #set the postiion of the walker on its first then subsequent cycles\n",
    "        \n",
    "        #conditional logic saying to update the average position of the walker every 10 iterations\n",
    "        #if (i%samp==0): avpos[:,(i%hist)//samp]=pos[:] #ORIGINAL\n",
    "        if (i%samp==0): avpos[:,(i%(hist*samp))//samp]=pos[:]\n",
    "            \n",
    "        #print((i%hist)//samp)\n",
    "        #print(avpos)\n",
    "        \n",
    "        gradmagnitude=max(0.0001,np.sqrt(desdirx(pos[0],pos[1])**2+desdiry(pos[0],pos[1])**2))\n",
    "        xi=np.array(np.random.normal(0,1,2))\n",
    "        # Equation 6 in Helbing, differential in position, eliminised velocity decay components\n",
    "        # gradmagnitude makes sure it is normalised, desdir not normalised\n",
    "        pos[0]+= dt *(dvel * desdirx(pos[0],pos[1])/gradmagnitude +np.sqrt(2.*eps/tau)*xi[0])  # x-position vector component \n",
    "        pos[1]+= dt *(dvel * desdiry(pos[0],pos[1])/gradmagnitude +np.sqrt(2.*eps/tau)*xi[1])  # y-position vector component\n",
    "        \n",
    "        internalclock+=1\n",
    "        if internalclock == 250 and trailpotweight != storedtrailpotweight:\n",
    "                trailpotweight = storedtrailpotweight\n",
    "                #print(trailpotweight)\n",
    "                setup_potentials() # recalculate potentials\n",
    "        \n",
    "#        posGrad = math.degree(math.atan(pos[0]/pos[1]) # future position\n",
    "        curDir = math.atan(desdiry(pos[0],pos[1])/desdirx(pos[0],pos[1]))\n",
    "#         print(posGrad)\n",
    "        # print(curDir)\n",
    "        # pos+=dt*vel\n",
    "        \n",
    "        #vel[0]+=-1/tau*vel[0] + (dvel/tau)*desdirx(pos[0],pos[1])/gradmagnitude+np.sqrt(2.*eps/tau)*xi[0]   # Eqiation 5 in Helbing, differential in velocity\n",
    "        #vel[1]+=-1/tau*vel[1] + (dvel/tau)*desdiry(pos[0],pos[1])/gradmagnitude+np.sqrt(2.*eps/tau)*xi[1]\n",
    "        \n",
    "        #Set the current position of the walker into the trakc array for the current iteration\n",
    "        track[i,:]=pos[:]\n",
    "\n",
    "#        if math.isnan(pos[1])==1: \n",
    "#                print (\"NaN error \",pos,vel, dest)\n",
    "#                break\n",
    "\n",
    "        intens[int((pos[0]-xmin)*(Nx-1)/(xmax-xmin)),int((pos[1]-ymin)*(Ny-1)/(ymax-ymin))]+=1.\n",
    "        i+=1\n",
    "        if (i%(hist*samp)==0):\n",
    "            meanpos=np.mean(avpos,axis=1)\n",
    "            if (np.dot(pos-meanpos,pos-meanpos)<precision): \n",
    "                #print (\"Stalled progress \",pos,meanpos,vel, dest)\n",
    "                #stalledpos.append(meanpos) # store positions where walkers are stalled\n",
    "                #stalledposrounded = stalledposregioncounter(meanpos, stalledposrounded) # store ROUNDED positions of walker stalls and count occurence in rounded position\n",
    "                trailpotweight = 0.002 # reduce tpotweight to favour destination more\n",
    "                #print(trailpotweight)\n",
    "                setup_potentials() # recalculate the trail potentials with lower weight\n",
    "                internalclock = 0 # reset clock\n",
    "                stallcounter+=1 # take notice of the fact that there was a stall\n",
    "                #break\n",
    "        if stallcounter == 3: # 3 represents the number of stalls before stopping the walker, this will happen with hard obstacles like buildings and water\n",
    "                print (\"Stalled progress \",pos,meanpos, dest)\n",
    "                stalledpos.append(meanpos) # store positions where walkers are stalled\n",
    "                stalledposrounded = stalledposregioncounter(meanpos, stalledposrounded) # store ROUNDED positions of walker stalls and count occurence in rounded position\n",
    "                break\n",
    "    if (i==wlkr_range): print (\"Missed goal \",dest,pos)           \n",
    "    return i    \n",
    "#stopping condition   "
   ]
  },
  {
   "cell_type": "code",
   "execution_count": 155,
   "metadata": {},
   "outputs": [],
   "source": [
    "# Calculate Q_alpha (strength of markings) eq 15\n",
    "def update_ground():\n",
    "    global q_alpha,intens,z,g_max,t_track,g_nat\n",
    "    q_alpha=intens*(1.-z/g_max)\n",
    "    # Time evolution of ground potential\n",
    "    #zdiff=(1./t_track)*(g_nat-z)+q_alpha\n",
    "    z+=(1./t_track)*(g_nat-z)+q_alpha\n",
    "    #cs = plt.contourf(X, Y, zdiff, cmap=cm.PuBu_r)\n",
    "    #cbar = plt.colorbar()\n",
    "    #plt.show\n",
    "    #z[140:160,45:75]"
   ]
  },
  {
   "cell_type": "code",
   "execution_count": 156,
   "metadata": {},
   "outputs": [],
   "source": [
    "def plot_path():\n",
    "    plt.contourf(X, Y, z, levels=np.linspace(z.min(),z.max(),1000),cmap='PuBu_r')\n",
    "    plt.colorbar()\n",
    "    #plt.scatter(track[0:wlkr_range-1,0],track[0:wlkr_range-1,1],1)\n",
    "    plt.show(block=False)"
   ]
  },
  {
   "cell_type": "code",
   "execution_count": 157,
   "metadata": {},
   "outputs": [],
   "source": [
    "def plot_path2():\n",
    "    global stalledpos\n",
    "    markercolour = np.array([[1,0,0]])\n",
    "\n",
    "    plt.contourf(X, Y, z, levels=np.linspace(z.min(),z.max(),1000),cmap='PuBu_r')\n",
    "    \n",
    "    stalledposarray = np.array(stalledpos)\n",
    "    plt.scatter(stalledposarray[0:-1,0],stalledposarray[0:-1,1],1.,markercolour)\n",
    "    plt.show(block=False)"
   ]
  },
  {
   "cell_type": "code",
   "execution_count": 158,
   "metadata": {},
   "outputs": [],
   "source": [
    "def plot_path3():\n",
    "    global stalledposrounded\n",
    "    stalledposrounded3 = []\n",
    "\n",
    "    markercolour = np.array([[1,0,0]])\n",
    "    \n",
    "    plt.contourf(X, Y, z, levels=np.linspace(z.min(),z.max(),1000),cmap='PuBu_r')\n",
    "    \n",
    "    for i in stalledposrounded:\n",
    "        stalledposrounded3.append([i[\"x\"],i[\"y\"]])\n",
    "\n",
    "    stalledposarray2 = np.array(stalledposrounded3)\n",
    "    plt.scatter(stalledposarray2[0:-1,0],stalledposarray2[0:-1,1],1.,markercolour)\n",
    "    plt.show(block=False)"
   ]
  },
  {
   "cell_type": "code",
   "execution_count": 159,
   "metadata": {},
   "outputs": [],
   "source": [
    "tau = 5."
   ]
  },
  {
   "cell_type": "code",
   "execution_count": 163,
   "metadata": {},
   "outputs": [
    {
     "name": "stdout",
     "output_type": "stream",
     "text": [
      "12.109735300000466\n",
      "Reached Goal |  Start:  [ 0. 50.] Dest:  [-10. -50.] Pos:  [ -9.86649617 -49.03926204] Time of completion: 14:54:27 Time taken:  2.83\n",
      "Reached Goal |  Start:  [ 0. 50.] Dest:  [ 10. -50.] Pos:  [  9.93305447 -49.02457935] Time of completion: 14:54:27 Time taken:  3.38\n",
      "Reached Goal |  Start:  [-10. -50.] Dest:  [ 10. -50.] Pos:  [  9.02194138 -49.9637037 ] Time of completion: 14:54:27 Time taken:  3.27\n",
      "Reached Goal |  Start:  [-10. -50.] Dest:  [ 0. 50.] Pos:  [-0.11272999 49.0494831 ] Time of completion: 14:54:27 Time taken:  3.38\n",
      "Reached Goal |  Start:  [ 10. -50.] Dest:  [ 0. 50.] Pos:  [-0.05656328 49.0188526 ] Time of completion: 14:54:29 Time taken:  2.27\n",
      "Reached Goal |  Start:  [ 10. -50.] Dest:  [-10. -50.] Pos:  [ -9.07026619 -50.03408327] Time of completion: 14:54:29 Time taken:  1.70\n",
      "11.268953200000396\n",
      "Reached Goal |  Start:  [ 0. 50.] Dest:  [-10. -50.] Pos:  [ -9.86290277 -49.0840943 ] Time of completion: 14:54:46 Time taken:  3.21\n",
      "Reached Goal |  Start:  [ 0. 50.] Dest:  [ 10. -50.] Pos:  [  9.80692157 -49.04125158] Time of completion: 14:54:46 Time taken:  3.21\n",
      "Reached Goal |  Start:  [-10. -50.] Dest:  [ 10. -50.] Pos:  [  9.08236183 -49.97432521] Time of completion: 14:54:46 Time taken:  3.19\n",
      "Reached Goal |  Start:  [-10. -50.] Dest:  [ 0. 50.] Pos:  [-0.10875152 49.05758371] Time of completion: 14:54:46 Time taken:  3.16\n",
      "Reached Goal |  Start:  [ 10. -50.] Dest:  [ 0. 50.] Pos:  [-0.15064812 49.02454092] Time of completion: 14:54:48 Time taken:  2.19\n",
      "Reached Goal |  Start:  [ 10. -50.] Dest:  [-10. -50.] Pos:  [ -9.09270478 -50.03159708] Time of completion: 14:54:48 Time taken:  1.97\n",
      "11.56778200000008\n",
      "Reached Goal |  Start:  [ 0. 50.] Dest:  [-10. -50.] Pos:  [ -9.90488981 -49.04899271] Time of completion: 14:55:05 Time taken:  3.26\n",
      "Reached Goal |  Start:  [ 0. 50.] Dest:  [ 10. -50.] Pos:  [  9.82310226 -49.11648695] Time of completion: 14:55:05 Time taken:  3.35\n",
      "Reached Goal |  Start:  [-10. -50.] Dest:  [ 10. -50.] Pos:  [  9.10739099 -50.032063  ] Time of completion: 14:55:05 Time taken:  3.12\n",
      "Reached Goal |  Start:  [-10. -50.] Dest:  [ 0. 50.] Pos:  [-0.08063798 49.08777269] Time of completion: 14:55:05 Time taken:  3.28\n",
      "Reached Goal |  Start:  [ 10. -50.] Dest:  [ 0. 50.] Pos:  [-3.25443461e-02  4.90498331e+01] Time of completion: 14:55:07 Time taken:  2.53\n",
      "Reached Goal |  Start:  [ 10. -50.] Dest:  [-10. -50.] Pos:  [ -9.00155721 -50.03865068] Time of completion: 14:55:08 Time taken:  2.46\n",
      "11.039861100000053\n",
      "Reached Goal |  Start:  [ 0. 50.] Dest:  [-10. -50.] Pos:  [ -9.87312818 -49.05966205] Time of completion: 14:55:24 Time taken:  3.27\n",
      "Reached Goal |  Start:  [ 0. 50.] Dest:  [ 10. -50.] Pos:  [  9.80578557 -49.07049867] Time of completion: 14:55:24 Time taken:  3.25\n",
      "Reached Goal |  Start:  [-10. -50.] Dest:  [ 10. -50.] Pos:  [  9.04277346 -50.07666664] Time of completion: 14:55:23 Time taken:  3.06\n",
      "Reached Goal |  Start:  [-10. -50.] Dest:  [ 0. 50.] Pos:  [-0.05330069 49.01391999] Time of completion: 14:55:24 Time taken:  3.39\n",
      "Reached Goal |  Start:  [ 10. -50.] Dest:  [ 0. 50.] Pos:  [-0.06504519 49.02010481] Time of completion: 14:55:26 Time taken:  2.21\n",
      "Reached Goal |  Start:  [ 10. -50.] Dest:  [-10. -50.] Pos:  [ -9.0933513  -50.02360838] Time of completion: 14:55:26 Time taken:  1.89\n",
      "12.183145400000285\n",
      "Reached Goal |  Start:  [ 0. 50.] Dest:  [-10. -50.] Pos:  [ -9.79866296 -49.0787167 ] Time of completion: 14:55:43 Time taken:  3.59\n",
      "Reached Goal |  Start:  [ 0. 50.] Dest:  [ 10. -50.] Pos:  [  9.77865004 -49.07509588] Time of completion: 14:55:43 Time taken:  3.46\n",
      "Reached Goal |  Start:  [-10. -50.] Dest:  [ 10. -50.] Pos:  [  9.00129568 -50.04546055] Time of completion: 14:55:43 Time taken:  3.36\n",
      "Reached Goal |  Start:  [-10. -50.] Dest:  [ 0. 50.] Pos:  [-0.06849204 49.05795296] Time of completion: 14:55:44 Time taken:  3.68\n",
      "Reached Goal |  Start:  [ 10. -50.] Dest:  [ 0. 50.] Pos:  [-0.06203967 49.07647073] Time of completion: 14:55:46 Time taken:  2.31\n",
      "Reached Goal |  Start:  [ 10. -50.] Dest:  [-10. -50.] Pos:  [ -9.08877289 -50.03553619] Time of completion: 14:55:46 Time taken:  2.04\n"
     ]
    },
    {
     "data": {
      "image/png": "[encoded data removed]",
      "text/plain": [
       "<Figure size 432x288 with 2 Axes>"
      ]
     },
     "metadata": {
      "needs_background": "light"
     },
     "output_type": "display_data"
    },
    {
     "name": "stdout",
     "output_type": "stream",
     "text": [
      "11.342578700001468\n",
      "Reached Goal |  Start:  [ 0. 50.] Dest:  [-10. -50.] Pos:  [ -9.80725614 -49.02558252] Time of completion: 14:56:23 Time taken:  3.72\n",
      "Reached Goal |  Start:  [ 0. 50.] Dest:  [ 10. -50.] Pos:  [  9.783571   -49.05257281] Time of completion: 14:56:23 Time taken:  3.52\n",
      "Reached Goal |  Start:  [-10. -50.] Dest:  [ 10. -50.] Pos:  [  9.02600849 -49.98813358] Time of completion: 14:56:23 Time taken:  3.33\n",
      "Reached Goal |  Start:  [-10. -50.] Dest:  [ 0. 50.] Pos:  [-0.08325554 49.08497391] Time of completion: 14:56:23 Time taken:  3.69\n",
      "Reached Goal |  Start:  [ 10. -50.] Dest:  [ 0. 50.] Pos:  [-4.31197208e-02  4.90503607e+01] Time of completion: 14:56:26 Time taken:  2.38\n",
      "Reached Goal |  Start:  [ 10. -50.] Dest:  [-10. -50.] Pos:  [ -9.07338171 -50.04804224] Time of completion: 14:56:26 Time taken:  2.11\n",
      "11.324627500000133\n",
      "Reached Goal |  Start:  [ 0. 50.] Dest:  [-10. -50.] Pos:  [ -9.87799973 -49.04151776] Time of completion: 14:56:42 Time taken:  3.34\n",
      "Reached Goal |  Start:  [ 0. 50.] Dest:  [ 10. -50.] Pos:  [  9.80769523 -49.10800046] Time of completion: 14:56:42 Time taken:  3.12\n",
      "Reached Goal |  Start:  [-10. -50.] Dest:  [ 10. -50.] Pos:  [  9.07880566 -50.02942635] Time of completion: 14:56:42 Time taken:  3.02\n",
      "Reached Goal |  Start:  [-10. -50.] Dest:  [ 0. 50.] Pos:  [-0.06617105 49.01329848] Time of completion: 14:56:42 Time taken:  3.47\n",
      "Reached Goal |  Start:  [ 10. -50.] Dest:  [ 0. 50.] Pos:  [-0.06594841 49.07231747] Time of completion: 14:56:44 Time taken:  2.45\n",
      "Reached Goal |  Start:  [ 10. -50.] Dest:  [-10. -50.] Pos:  [ -9.08030351 -50.04412589] Time of completion: 14:56:44 Time taken:  2.20\n",
      "11.306809599998815\n",
      "Reached Goal |  Start:  [ 0. 50.] Dest:  [-10. -50.] Pos:  [ -9.86073914 -49.06686742] Time of completion: 14:57:01 Time taken:  3.66\n",
      "Reached Goal |  Start:  [ 0. 50.] Dest:  [ 10. -50.] Pos:  [  9.81831561 -49.09032573] Time of completion: 14:57:01 Time taken:  3.65\n",
      "Reached Goal |  Start:  [-10. -50.] Dest:  [ 10. -50.] Pos:  [  9.10069059 -49.98633962] Time of completion: 14:57:01 Time taken:  3.47\n",
      "Reached Goal |  Start:  [-10. -50.] Dest:  [ 0. 50.] Pos:  [-0.09177448 49.05980829] Time of completion: 14:57:01 Time taken:  3.86\n",
      "Reached Goal |  Start:  [ 10. -50.] Dest:  [ 0. 50.] Pos:  [-0.13302671 49.06406018] Time of completion: 14:57:04 Time taken:  2.72\n",
      "Reached Goal |  Start:  [ 10. -50.] Dest:  [-10. -50.] Pos:  [ -9.05082489 -50.00798987] Time of completion: 14:57:04 Time taken:  2.42\n",
      "12.153646700000536\n",
      "Reached Goal |  Start:  [ 0. 50.] Dest:  [-10. -50.] Pos:  [ -9.89688619 -49.02960512] Time of completion: 14:57:21 Time taken:  2.89\n",
      "Reached Goal |  Start:  [ 0. 50.] Dest:  [ 10. -50.] Pos:  [  9.84754744 -49.07156734] Time of completion: 14:57:21 Time taken:  2.95\n",
      "Reached Goal |  Start:  [-10. -50.] Dest:  [ 10. -50.] Pos:  [  9.02652914 -49.97680449] Time of completion: 14:57:20 Time taken:  2.79\n",
      "Reached Goal |  Start:  [-10. -50.] Dest:  [ 0. 50.] Pos:  [-0.0792279  49.05628194] Time of completion: 14:57:21 Time taken:  3.23\n",
      "Reached Goal |  Start:  [ 10. -50.] Dest:  [ 0. 50.] Pos:  [-2.34614863e-02  4.90923917e+01] Time of completion: 14:57:23 Time taken:  2.36\n",
      "Reached Goal |  Start:  [ 10. -50.] Dest:  [-10. -50.] Pos:  [ -9.06574593 -50.00412778] Time of completion: 14:57:23 Time taken:  2.08\n",
      "11.386166899999807\n",
      "Reached Goal |  Start:  [ 0. 50.] Dest:  [-10. -50.] Pos:  [ -9.81307521 -49.07079213] Time of completion: 14:57:40 Time taken:  3.58\n",
      "Reached Goal |  Start:  [ 0. 50.] Dest:  [ 10. -50.] Pos:  [  9.82574546 -49.04922974] Time of completion: 14:57:40 Time taken:  3.71\n",
      "Reached Goal |  Start:  [-10. -50.] Dest:  [ 10. -50.] Pos:  [  9.0343437  -49.94978846] Time of completion: 14:57:40 Time taken:  3.54\n",
      "Reached Goal |  Start:  [-10. -50.] Dest:  [ 0. 50.] Pos:  [-3.80438564e-02  4.90675470e+01] Time of completion: 14:57:40 Time taken:  4.11\n",
      "Reached Goal |  Start:  [ 10. -50.] Dest:  [ 0. 50.] Pos:  [-0.05790926 49.08675787] Time of completion: 14:57:42 Time taken:  2.48\n",
      "Reached Goal |  Start:  [ 10. -50.] Dest:  [-10. -50.] Pos:  [ -9.01187142 -50.04049295] Time of completion: 14:57:42 Time taken:  2.00\n"
     ]
    },
    {
     "data": {
      "image/png": "[encoded data removed]",
      "text/plain": [
       "<Figure size 432x288 with 2 Axes>"
      ]
     },
     "metadata": {
      "needs_background": "light"
     },
     "output_type": "display_data"
    },
    {
     "name": "stdout",
     "output_type": "stream",
     "text": [
      "Number of walkers = 60\n",
      "Walker success rate = 100.0 %\n",
      "Average time taken = 2.9853333333333336,    Min = 1.7,    Max = 4.11\n"
     ]
    }
   ],
   "source": [
    "# main working loop\n",
    "iterations = 10\n",
    "walkersperiteration = len(route)\n",
    "plotfrequency = 2 # number of plots you want (including final), make sure 'iterations' is divisible by this\n",
    "plotevery = iterations/plotfrequency\n",
    "stalledpos = []\n",
    "walker_times = []\n",
    "\n",
    "for i in range(iterations):\n",
    "        t11 = time.perf_counter()\n",
    "        \n",
    "        #calc_tr_new()\n",
    "        if __name__ == '__main__': # runs parallelised calc_tr\n",
    "            with Pool(processes = multiprocessing.cpu_count()) as pool:\n",
    "                starmapargs = [] # container for starmap arguments\n",
    "                for core in range(1,multiprocessing.cpu_count()+1):\n",
    "                    starmapargs.append((core, TrailPotential, z, Weight, subexpdist)) # list of lists of args\n",
    "                TrailPotential[:,:] = 0\n",
    "                results = pool.starmap(mpf.calc_tr_new_mp, starmapargs)\n",
    "                TrailPotential = np.concatenate(np.array(results[0:4]))\n",
    "                #for ll in results:\n",
    "                #    TrailPotential += np.array(ll)\n",
    "                #Trailpotential = results\n",
    "                #for core in results:\n",
    "\n",
    "                #pool.close()\n",
    "                #pool.join()\n",
    "        t22 = time.perf_counter()\n",
    "        print(t22-t11)\n",
    "\n",
    "        intens[:]=0.\n",
    "\n",
    "        if __name__ == '__main__': # runs parallelised set_up_walker\n",
    "            with Pool(processes = multiprocessing.cpu_count()) as pool2:\n",
    "                starmapargs2 = []\n",
    "                for j in range(walkersperiteration):\n",
    "                    starmapargs2.append((j, route, intens, xmin, xmax, ymin, ymax, Nx, Ny, stalledpos, x, y, TrailPotential))\n",
    "                results2 = pool2.starmap(mpf2.set_up_walker_mp, starmapargs2)\n",
    "                #print(list(results2))\n",
    "                #start, dest, pos = list(results2[:,1])\n",
    "                for walker in list(results2):\n",
    "                    print(walker[7], '|  Start: ', walker[0], 'Dest: ', walker[1], 'Pos: ', walker[2], 'Time of completion:', walker[8], 'Time taken: ', walker[9])\n",
    "                    track = walker[3] # only keeping last walker's track data, for now\n",
    "                    # >>>>>>>> fix this >>>>>>>>> if len(walker[5]) != 0: stalledpos+=walker[5] # should only combine if there is a value\n",
    "                    intens += walker[4] # summing intens from all walkers, hope this doesnt change behaviour\n",
    "                    grad = walker[6] # not sure if this should be last walker or sum of all\n",
    "                    walker_times.append(float(walker[9]))\n",
    "                    #TrailPotential = walker[10]\n",
    "                    \n",
    "                #start, dest, pos, track, intens, stalledpos, grad = list(results2)\n",
    "                #pool2.close()\n",
    "                #pool2.join()\n",
    "\n",
    "        update_ground()   \n",
    "        if (i+1) % plotevery == 0 and i != 0: plot_path()     \n",
    "        #for j in range(0,walkersperiteration):\n",
    "            #set_up_walker(np.random.randint(0,len(route))) # used if you want random routes\n",
    "            #set_up_walker(j) # used if you want to run every route per potential calculation/ iteration\n",
    "            #setup_potentials()\n",
    "            #calc_path()\n",
    "            #now = datetime.now() # referenced elsewhere\n",
    "            #current_time = now.strftime(\"%H:%M:%S\")\n",
    "            #print(i, start,\" -> \", dest, pos,\"      time = \", current_time)\n",
    "        #update_ground()\n",
    "        \n",
    "        #plot_path()#\n",
    "\n",
    "numberofwalkers = iterations*walkersperiteration\n",
    "successrate = 100-(100*len(stalledpos))/numberofwalkers\n",
    "\n",
    "print(str(\"Number of walkers = \")+str(numberofwalkers))\n",
    "print(str('Walker success rate = ')+str(successrate)+str(' %'))\n",
    "print('Average time taken = '+str(np.mean(walker_times))+ ',    Min = '+str(min(walker_times))+',    Max = '+str(max(walker_times)))"
   ]
  },
  {
   "cell_type": "code",
   "execution_count": 33,
   "metadata": {},
   "outputs": [],
   "source": [
    "#plot_path()"
   ]
  },
  {
   "cell_type": "code",
   "execution_count": 162,
   "metadata": {},
   "outputs": [
    {
     "name": "stdout",
     "output_type": "stream",
     "text": [
      "(200, 800)\n",
      "(200, 800)\n",
      "(200, 800)\n",
      "(200, 800)\n",
      "0\n",
      "199\n",
      "200\n",
      "399\n",
      "400\n",
      "599\n",
      "600\n",
      "799\n",
      "2153.2770705469743\n",
      "1975.2950840831038\n",
      "500.55293869396434\n"
     ]
    }
   ],
   "source": [
    "for thingy in results:\n",
    "    print(np.shape(thingy))\n",
    "    #print(thingy)\n",
    "\n",
    "for core in range(1,5):\n",
    "    print(int(((core-1)/4)*len(z)))\n",
    "    print(int((core/4)*len(z)-1))\n",
    "\n",
    "#ddddd = [0,1,2,3,4,5]\n",
    "#print(ddddd[1:3])\n",
    "\n",
    "print(np.max(TrailPotential))\n",
    "print(np.mean(TrailPotential))\n",
    "print(np.min(TrailPotential))\n",
    "\n",
    "np.where(TrailPotential == -35419.43769596848)\n",
    "\n",
    "results00 = results[0]"
   ]
  },
  {
   "cell_type": "code",
   "execution_count": 34,
   "metadata": {},
   "outputs": [
    {
     "ename": "TypeError",
     "evalue": "Shapes of x (800, 800) and z (597, 800) do not match",
     "output_type": "error",
     "traceback": [
      "\u001b[1;31m---------------------------------------------------------------------------\u001b[0m",
      "\u001b[1;31mTypeError\u001b[0m                                 Traceback (most recent call last)",
      "\u001b[1;32m~\\AppData\\Local\\Temp/ipykernel_15440/4218534593.py\u001b[0m in \u001b[0;36m<module>\u001b[1;34m\u001b[0m\n\u001b[1;32m----> 1\u001b[1;33m \u001b[0mcs\u001b[0m \u001b[1;33m=\u001b[0m \u001b[0mplt\u001b[0m\u001b[1;33m.\u001b[0m\u001b[0mcontourf\u001b[0m\u001b[1;33m(\u001b[0m\u001b[0mX\u001b[0m\u001b[1;33m,\u001b[0m \u001b[0mY\u001b[0m\u001b[1;33m,\u001b[0m \u001b[0mTrailPotential\u001b[0m\u001b[1;33m,\u001b[0m \u001b[0mlevels\u001b[0m\u001b[1;33m=\u001b[0m\u001b[0mnp\u001b[0m\u001b[1;33m.\u001b[0m\u001b[0mlinspace\u001b[0m\u001b[1;33m(\u001b[0m\u001b[0mTrailPotential\u001b[0m\u001b[1;33m.\u001b[0m\u001b[0mmin\u001b[0m\u001b[1;33m(\u001b[0m\u001b[1;33m)\u001b[0m\u001b[1;33m,\u001b[0m\u001b[0mTrailPotential\u001b[0m\u001b[1;33m.\u001b[0m\u001b[0mmax\u001b[0m\u001b[1;33m(\u001b[0m\u001b[1;33m)\u001b[0m\u001b[1;33m,\u001b[0m\u001b[1;36m1000\u001b[0m\u001b[1;33m)\u001b[0m\u001b[1;33m,\u001b[0m\u001b[0mcmap\u001b[0m\u001b[1;33m=\u001b[0m\u001b[1;34m'PuBu_r'\u001b[0m\u001b[1;33m)\u001b[0m\u001b[1;33m\u001b[0m\u001b[1;33m\u001b[0m\u001b[0m\n\u001b[0m\u001b[0;32m      2\u001b[0m \u001b[0mcbar\u001b[0m \u001b[1;33m=\u001b[0m \u001b[0mplt\u001b[0m\u001b[1;33m.\u001b[0m\u001b[0mcolorbar\u001b[0m\u001b[1;33m(\u001b[0m\u001b[1;33m)\u001b[0m\u001b[1;33m\u001b[0m\u001b[1;33m\u001b[0m\u001b[0m\n\u001b[0;32m      3\u001b[0m \u001b[1;33m\u001b[0m\u001b[0m\n\u001b[0;32m      4\u001b[0m \u001b[0mplt\u001b[0m\u001b[1;33m.\u001b[0m\u001b[0mshow\u001b[0m\u001b[1;33m(\u001b[0m\u001b[1;33m)\u001b[0m\u001b[1;33m\u001b[0m\u001b[1;33m\u001b[0m\u001b[0m\n",
      "\u001b[1;32m~\\AppData\\Local\\Programs\\Python\\Python39\\lib\\site-packages\\matplotlib\\pyplot.py\u001b[0m in \u001b[0;36mcontourf\u001b[1;34m(data, *args, **kwargs)\u001b[0m\n\u001b[0;32m   2743\u001b[0m \u001b[1;33m@\u001b[0m\u001b[0m_copy_docstring_and_deprecators\u001b[0m\u001b[1;33m(\u001b[0m\u001b[0mAxes\u001b[0m\u001b[1;33m.\u001b[0m\u001b[0mcontourf\u001b[0m\u001b[1;33m)\u001b[0m\u001b[1;33m\u001b[0m\u001b[1;33m\u001b[0m\u001b[0m\n\u001b[0;32m   2744\u001b[0m \u001b[1;32mdef\u001b[0m \u001b[0mcontourf\u001b[0m\u001b[1;33m(\u001b[0m\u001b[1;33m*\u001b[0m\u001b[0margs\u001b[0m\u001b[1;33m,\u001b[0m \u001b[0mdata\u001b[0m\u001b[1;33m=\u001b[0m\u001b[1;32mNone\u001b[0m\u001b[1;33m,\u001b[0m \u001b[1;33m**\u001b[0m\u001b[0mkwargs\u001b[0m\u001b[1;33m)\u001b[0m\u001b[1;33m:\u001b[0m\u001b[1;33m\u001b[0m\u001b[1;33m\u001b[0m\u001b[0m\n\u001b[1;32m-> 2745\u001b[1;33m     __ret = gca().contourf(\n\u001b[0m\u001b[0;32m   2746\u001b[0m         \u001b[1;33m*\u001b[0m\u001b[0margs\u001b[0m\u001b[1;33m,\u001b[0m \u001b[1;33m**\u001b[0m\u001b[1;33m(\u001b[0m\u001b[1;33m{\u001b[0m\u001b[1;34m\"data\"\u001b[0m\u001b[1;33m:\u001b[0m \u001b[0mdata\u001b[0m\u001b[1;33m}\u001b[0m \u001b[1;32mif\u001b[0m \u001b[0mdata\u001b[0m \u001b[1;32mis\u001b[0m \u001b[1;32mnot\u001b[0m \u001b[1;32mNone\u001b[0m \u001b[1;32melse\u001b[0m \u001b[1;33m{\u001b[0m\u001b[1;33m}\u001b[0m\u001b[1;33m)\u001b[0m\u001b[1;33m,\u001b[0m\u001b[1;33m\u001b[0m\u001b[1;33m\u001b[0m\u001b[0m\n\u001b[0;32m   2747\u001b[0m         **kwargs)\n",
      "\u001b[1;32m~\\AppData\\Local\\Programs\\Python\\Python39\\lib\\site-packages\\matplotlib\\__init__.py\u001b[0m in \u001b[0;36minner\u001b[1;34m(ax, data, *args, **kwargs)\u001b[0m\n\u001b[0;32m   1359\u001b[0m     \u001b[1;32mdef\u001b[0m \u001b[0minner\u001b[0m\u001b[1;33m(\u001b[0m\u001b[0max\u001b[0m\u001b[1;33m,\u001b[0m \u001b[1;33m*\u001b[0m\u001b[0margs\u001b[0m\u001b[1;33m,\u001b[0m \u001b[0mdata\u001b[0m\u001b[1;33m=\u001b[0m\u001b[1;32mNone\u001b[0m\u001b[1;33m,\u001b[0m \u001b[1;33m**\u001b[0m\u001b[0mkwargs\u001b[0m\u001b[1;33m)\u001b[0m\u001b[1;33m:\u001b[0m\u001b[1;33m\u001b[0m\u001b[1;33m\u001b[0m\u001b[0m\n\u001b[0;32m   1360\u001b[0m         \u001b[1;32mif\u001b[0m \u001b[0mdata\u001b[0m \u001b[1;32mis\u001b[0m \u001b[1;32mNone\u001b[0m\u001b[1;33m:\u001b[0m\u001b[1;33m\u001b[0m\u001b[1;33m\u001b[0m\u001b[0m\n\u001b[1;32m-> 1361\u001b[1;33m             \u001b[1;32mreturn\u001b[0m \u001b[0mfunc\u001b[0m\u001b[1;33m(\u001b[0m\u001b[0max\u001b[0m\u001b[1;33m,\u001b[0m \u001b[1;33m*\u001b[0m\u001b[0mmap\u001b[0m\u001b[1;33m(\u001b[0m\u001b[0msanitize_sequence\u001b[0m\u001b[1;33m,\u001b[0m \u001b[0margs\u001b[0m\u001b[1;33m)\u001b[0m\u001b[1;33m,\u001b[0m \u001b[1;33m**\u001b[0m\u001b[0mkwargs\u001b[0m\u001b[1;33m)\u001b[0m\u001b[1;33m\u001b[0m\u001b[1;33m\u001b[0m\u001b[0m\n\u001b[0m\u001b[0;32m   1362\u001b[0m \u001b[1;33m\u001b[0m\u001b[0m\n\u001b[0;32m   1363\u001b[0m         \u001b[0mbound\u001b[0m \u001b[1;33m=\u001b[0m \u001b[0mnew_sig\u001b[0m\u001b[1;33m.\u001b[0m\u001b[0mbind\u001b[0m\u001b[1;33m(\u001b[0m\u001b[0max\u001b[0m\u001b[1;33m,\u001b[0m \u001b[1;33m*\u001b[0m\u001b[0margs\u001b[0m\u001b[1;33m,\u001b[0m \u001b[1;33m**\u001b[0m\u001b[0mkwargs\u001b[0m\u001b[1;33m)\u001b[0m\u001b[1;33m\u001b[0m\u001b[1;33m\u001b[0m\u001b[0m\n",
      "\u001b[1;32m~\\AppData\\Local\\Programs\\Python\\Python39\\lib\\site-packages\\matplotlib\\axes\\_axes.py\u001b[0m in \u001b[0;36mcontourf\u001b[1;34m(self, *args, **kwargs)\u001b[0m\n\u001b[0;32m   6432\u001b[0m     \u001b[1;32mdef\u001b[0m \u001b[0mcontourf\u001b[0m\u001b[1;33m(\u001b[0m\u001b[0mself\u001b[0m\u001b[1;33m,\u001b[0m \u001b[1;33m*\u001b[0m\u001b[0margs\u001b[0m\u001b[1;33m,\u001b[0m \u001b[1;33m**\u001b[0m\u001b[0mkwargs\u001b[0m\u001b[1;33m)\u001b[0m\u001b[1;33m:\u001b[0m\u001b[1;33m\u001b[0m\u001b[1;33m\u001b[0m\u001b[0m\n\u001b[0;32m   6433\u001b[0m         \u001b[0mkwargs\u001b[0m\u001b[1;33m[\u001b[0m\u001b[1;34m'filled'\u001b[0m\u001b[1;33m]\u001b[0m \u001b[1;33m=\u001b[0m \u001b[1;32mTrue\u001b[0m\u001b[1;33m\u001b[0m\u001b[1;33m\u001b[0m\u001b[0m\n\u001b[1;32m-> 6434\u001b[1;33m         \u001b[0mcontours\u001b[0m \u001b[1;33m=\u001b[0m \u001b[0mmcontour\u001b[0m\u001b[1;33m.\u001b[0m\u001b[0mQuadContourSet\u001b[0m\u001b[1;33m(\u001b[0m\u001b[0mself\u001b[0m\u001b[1;33m,\u001b[0m \u001b[1;33m*\u001b[0m\u001b[0margs\u001b[0m\u001b[1;33m,\u001b[0m \u001b[1;33m**\u001b[0m\u001b[0mkwargs\u001b[0m\u001b[1;33m)\u001b[0m\u001b[1;33m\u001b[0m\u001b[1;33m\u001b[0m\u001b[0m\n\u001b[0m\u001b[0;32m   6435\u001b[0m         \u001b[0mself\u001b[0m\u001b[1;33m.\u001b[0m\u001b[0m_request_autoscale_view\u001b[0m\u001b[1;33m(\u001b[0m\u001b[1;33m)\u001b[0m\u001b[1;33m\u001b[0m\u001b[1;33m\u001b[0m\u001b[0m\n\u001b[0;32m   6436\u001b[0m         \u001b[1;32mreturn\u001b[0m \u001b[0mcontours\u001b[0m\u001b[1;33m\u001b[0m\u001b[1;33m\u001b[0m\u001b[0m\n",
      "\u001b[1;32m~\\AppData\\Local\\Programs\\Python\\Python39\\lib\\site-packages\\matplotlib\\contour.py\u001b[0m in \u001b[0;36m__init__\u001b[1;34m(self, ax, levels, filled, linewidths, linestyles, hatches, alpha, origin, extent, cmap, colors, norm, vmin, vmax, extend, antialiased, nchunk, locator, transform, *args, **kwargs)\u001b[0m\n\u001b[0;32m    775\u001b[0m         \u001b[0mself\u001b[0m\u001b[1;33m.\u001b[0m\u001b[0m_transform\u001b[0m \u001b[1;33m=\u001b[0m \u001b[0mtransform\u001b[0m\u001b[1;33m\u001b[0m\u001b[1;33m\u001b[0m\u001b[0m\n\u001b[0;32m    776\u001b[0m \u001b[1;33m\u001b[0m\u001b[0m\n\u001b[1;32m--> 777\u001b[1;33m         \u001b[0mkwargs\u001b[0m \u001b[1;33m=\u001b[0m \u001b[0mself\u001b[0m\u001b[1;33m.\u001b[0m\u001b[0m_process_args\u001b[0m\u001b[1;33m(\u001b[0m\u001b[1;33m*\u001b[0m\u001b[0margs\u001b[0m\u001b[1;33m,\u001b[0m \u001b[1;33m**\u001b[0m\u001b[0mkwargs\u001b[0m\u001b[1;33m)\u001b[0m\u001b[1;33m\u001b[0m\u001b[1;33m\u001b[0m\u001b[0m\n\u001b[0m\u001b[0;32m    778\u001b[0m         \u001b[0mself\u001b[0m\u001b[1;33m.\u001b[0m\u001b[0m_process_levels\u001b[0m\u001b[1;33m(\u001b[0m\u001b[1;33m)\u001b[0m\u001b[1;33m\u001b[0m\u001b[1;33m\u001b[0m\u001b[0m\n\u001b[0;32m    779\u001b[0m \u001b[1;33m\u001b[0m\u001b[0m\n",
      "\u001b[1;32m~\\AppData\\Local\\Programs\\Python\\Python39\\lib\\site-packages\\matplotlib\\contour.py\u001b[0m in \u001b[0;36m_process_args\u001b[1;34m(self, corner_mask, *args, **kwargs)\u001b[0m\n\u001b[0;32m   1364\u001b[0m             \u001b[0mself\u001b[0m\u001b[1;33m.\u001b[0m\u001b[0m_corner_mask\u001b[0m \u001b[1;33m=\u001b[0m \u001b[0mcorner_mask\u001b[0m\u001b[1;33m\u001b[0m\u001b[1;33m\u001b[0m\u001b[0m\n\u001b[0;32m   1365\u001b[0m \u001b[1;33m\u001b[0m\u001b[0m\n\u001b[1;32m-> 1366\u001b[1;33m             \u001b[0mx\u001b[0m\u001b[1;33m,\u001b[0m \u001b[0my\u001b[0m\u001b[1;33m,\u001b[0m \u001b[0mz\u001b[0m \u001b[1;33m=\u001b[0m \u001b[0mself\u001b[0m\u001b[1;33m.\u001b[0m\u001b[0m_contour_args\u001b[0m\u001b[1;33m(\u001b[0m\u001b[0margs\u001b[0m\u001b[1;33m,\u001b[0m \u001b[0mkwargs\u001b[0m\u001b[1;33m)\u001b[0m\u001b[1;33m\u001b[0m\u001b[1;33m\u001b[0m\u001b[0m\n\u001b[0m\u001b[0;32m   1367\u001b[0m \u001b[1;33m\u001b[0m\u001b[0m\n\u001b[0;32m   1368\u001b[0m             \u001b[0m_mask\u001b[0m \u001b[1;33m=\u001b[0m \u001b[0mma\u001b[0m\u001b[1;33m.\u001b[0m\u001b[0mgetmask\u001b[0m\u001b[1;33m(\u001b[0m\u001b[0mz\u001b[0m\u001b[1;33m)\u001b[0m\u001b[1;33m\u001b[0m\u001b[1;33m\u001b[0m\u001b[0m\n",
      "\u001b[1;32m~\\AppData\\Local\\Programs\\Python\\Python39\\lib\\site-packages\\matplotlib\\contour.py\u001b[0m in \u001b[0;36m_contour_args\u001b[1;34m(self, args, kwargs)\u001b[0m\n\u001b[0;32m   1422\u001b[0m             \u001b[0margs\u001b[0m \u001b[1;33m=\u001b[0m \u001b[0margs\u001b[0m\u001b[1;33m[\u001b[0m\u001b[1;36m1\u001b[0m\u001b[1;33m:\u001b[0m\u001b[1;33m]\u001b[0m\u001b[1;33m\u001b[0m\u001b[1;33m\u001b[0m\u001b[0m\n\u001b[0;32m   1423\u001b[0m         \u001b[1;32melif\u001b[0m \u001b[0mNargs\u001b[0m \u001b[1;33m<=\u001b[0m \u001b[1;36m4\u001b[0m\u001b[1;33m:\u001b[0m\u001b[1;33m\u001b[0m\u001b[1;33m\u001b[0m\u001b[0m\n\u001b[1;32m-> 1424\u001b[1;33m             \u001b[0mx\u001b[0m\u001b[1;33m,\u001b[0m \u001b[0my\u001b[0m\u001b[1;33m,\u001b[0m \u001b[0mz\u001b[0m \u001b[1;33m=\u001b[0m \u001b[0mself\u001b[0m\u001b[1;33m.\u001b[0m\u001b[0m_check_xyz\u001b[0m\u001b[1;33m(\u001b[0m\u001b[0margs\u001b[0m\u001b[1;33m[\u001b[0m\u001b[1;33m:\u001b[0m\u001b[1;36m3\u001b[0m\u001b[1;33m]\u001b[0m\u001b[1;33m,\u001b[0m \u001b[0mkwargs\u001b[0m\u001b[1;33m)\u001b[0m\u001b[1;33m\u001b[0m\u001b[1;33m\u001b[0m\u001b[0m\n\u001b[0m\u001b[0;32m   1425\u001b[0m             \u001b[0margs\u001b[0m \u001b[1;33m=\u001b[0m \u001b[0margs\u001b[0m\u001b[1;33m[\u001b[0m\u001b[1;36m3\u001b[0m\u001b[1;33m:\u001b[0m\u001b[1;33m]\u001b[0m\u001b[1;33m\u001b[0m\u001b[1;33m\u001b[0m\u001b[0m\n\u001b[0;32m   1426\u001b[0m         \u001b[1;32melse\u001b[0m\u001b[1;33m:\u001b[0m\u001b[1;33m\u001b[0m\u001b[1;33m\u001b[0m\u001b[0m\n",
      "\u001b[1;32m~\\AppData\\Local\\Programs\\Python\\Python39\\lib\\site-packages\\matplotlib\\contour.py\u001b[0m in \u001b[0;36m_check_xyz\u001b[1;34m(self, args, kwargs)\u001b[0m\n\u001b[0;32m   1471\u001b[0m         \u001b[1;32melif\u001b[0m \u001b[0mx\u001b[0m\u001b[1;33m.\u001b[0m\u001b[0mndim\u001b[0m \u001b[1;33m==\u001b[0m \u001b[1;36m2\u001b[0m\u001b[1;33m:\u001b[0m\u001b[1;33m\u001b[0m\u001b[1;33m\u001b[0m\u001b[0m\n\u001b[0;32m   1472\u001b[0m             \u001b[1;32mif\u001b[0m \u001b[0mx\u001b[0m\u001b[1;33m.\u001b[0m\u001b[0mshape\u001b[0m \u001b[1;33m!=\u001b[0m \u001b[0mz\u001b[0m\u001b[1;33m.\u001b[0m\u001b[0mshape\u001b[0m\u001b[1;33m:\u001b[0m\u001b[1;33m\u001b[0m\u001b[1;33m\u001b[0m\u001b[0m\n\u001b[1;32m-> 1473\u001b[1;33m                 raise TypeError(\n\u001b[0m\u001b[0;32m   1474\u001b[0m                     f\"Shapes of x {x.shape} and z {z.shape} do not match\")\n\u001b[0;32m   1475\u001b[0m             \u001b[1;32mif\u001b[0m \u001b[0my\u001b[0m\u001b[1;33m.\u001b[0m\u001b[0mshape\u001b[0m \u001b[1;33m!=\u001b[0m \u001b[0mz\u001b[0m\u001b[1;33m.\u001b[0m\u001b[0mshape\u001b[0m\u001b[1;33m:\u001b[0m\u001b[1;33m\u001b[0m\u001b[1;33m\u001b[0m\u001b[0m\n",
      "\u001b[1;31mTypeError\u001b[0m: Shapes of x (800, 800) and z (597, 800) do not match"
     ]
    },
    {
     "data": {
      "image/png": "[encoded data removed]",
      "text/plain": [
       "<Figure size 432x288 with 1 Axes>"
      ]
     },
     "metadata": {
      "needs_background": "light"
     },
     "output_type": "display_data"
    }
   ],
   "source": [
    "cs = plt.contourf(X, Y, TrailPotential, levels=np.linspace(TrailPotential.min(),TrailPotential.max(),1000),cmap='PuBu_r')\n",
    "cbar = plt.colorbar()\n",
    "\n",
    "plt.show()"
   ]
  },
  {
   "cell_type": "code",
   "execution_count": null,
   "metadata": {},
   "outputs": [],
   "source": [
    "for i in range(0,Nx):\n",
    "    for j in range(0,Ny):\n",
    "        if (np.isnan(z[i,j])):\n",
    "            print (i,j,g_max[i,j],Base[i,j,0])"
   ]
  },
  {
   "cell_type": "code",
   "execution_count": null,
   "metadata": {},
   "outputs": [],
   "source": [
    "def detect_local_maxima(arr):\n",
    "    # https://stackoverflow.com/questions/3684484/peak-detection-in-a-2d-array/3689710#3689710\n",
    "    \"\"\"\n",
    "    Takes an array and detects the troughs using the local maximum filter.\n",
    "    Returns a boolean mask of the troughs (i.e. 1 when\n",
    "    the pixel's value is the neighborhood maximum, 0 otherwise)\n",
    "    \"\"\"\n",
    "    # define an connected neighborhood\n",
    "    # http://www.scipy.org/doc/api_docs/SciPy.ndimage.morphology.html#generate_binary_structure\n",
    "    neighborhood = morphology.generate_binary_structure(len(arr.shape),2)\n",
    "    # apply the local minimum filter; all locations of minimum value \n",
    "    # in their neighborhood are set to 1\n",
    "    # http://www.scipy.org/doc/api_docs/SciPy.ndimage.filters.html#minimum_filter\n",
    "    local_max = (filters.maximum_filter(arr, footprint=neighborhood)==arr)\n",
    "    # local_min is a mask that contains the peaks we are \n",
    "    # looking for, but also the background.\n",
    "    # In order to isolate the peaks we must remove the background from the mask.\n",
    "    # \n",
    "    # we create the mask of the background\n",
    "    background = (arr==0)\n",
    "    # \n",
    "    # a little technicality: we must erode the background in order to \n",
    "    # successfully subtract it from local_min, otherwise a line will \n",
    "    # appear along the background border (artifact of the local minimum filter)\n",
    "    # http://www.scipy.org/doc/api_docs/SciPy.ndimage.morphology.html#binary_erosion\n",
    "    eroded_background = morphology.binary_erosion(\n",
    "        background, structure=neighborhood, border_value=1)\n",
    "    # \n",
    "    # we obtain the final mask, containing only peaks, \n",
    "    # by removing the background from the local_min mask\n",
    "    detected_maxima = local_max ^ eroded_background\n",
    "    return np.where(detected_maxima) "
   ]
  },
  {
   "cell_type": "code",
   "execution_count": null,
   "metadata": {},
   "outputs": [],
   "source": [
    "def plot_potentials():\n",
    "    global dest\n",
    "    TotPot = np.zeros((Nx,Ny))\n",
    "    TotPot =- np.sqrt((dest[0]-x[:,None])**2+(dest[1]-y[None,:])**2)\n",
    "    TotPot += 0.003*TrailPotential\n",
    "    maxima=detect_local_maxima(TotPot)\n",
    "    cs = plt.contourf(X, Y, TotPot, levels=np.linspace(TotPot.min(),TotPot.max(),1000),cmap='PuBu_r')\n",
    "    cbar = plt.colorbar()\n",
    "    print(maxima)\n",
    "    plt.scatter(x[maxima[0]],y[maxima[1]])\n",
    "    plt.scatter(track[0:wlkr_range-1,0],track[0:wlkr_range-1,1],1)\n",
    "    plt.show\n",
    "    # commit test"
   ]
  },
  {
   "cell_type": "code",
   "execution_count": null,
   "metadata": {},
   "outputs": [
    {
     "name": "stdout",
     "output_type": "stream",
     "text": [
      "(array([399, 399, 400, 400], dtype=int64), array([399, 400, 399, 400], dtype=int64))\n"
     ]
    },
    {
     "data": {
      "image/png": "[encoded data removed]",
      "text/plain": [
       "<Figure size 432x288 with 2 Axes>"
      ]
     },
     "metadata": {
      "needs_background": "light"
     },
     "output_type": "display_data"
    }
   ],
   "source": [
    "plot_potentials()"
   ]
  },
  {
   "cell_type": "code",
   "execution_count": null,
   "metadata": {},
   "outputs": [
    {
     "name": "stdout",
     "output_type": "stream",
     "text": [
      "[0. 0.]\n",
      "[0. 0.]\n"
     ]
    },
    {
     "data": {
      "image/png": "[encoded data removed]",
      "text/plain": [
       "<Figure size 432x288 with 2 Axes>"
      ]
     },
     "metadata": {
      "needs_background": "light"
     },
     "output_type": "display_data"
    }
   ],
   "source": [
    "#Plot the direction\n",
    "scgrad=np.arctan2(grad[1],grad[0])\n",
    "levels = np.linspace(-np.pi, np.pi, 360)\n",
    "cs = plt.contourf(X, Y,scgrad, levels=levels,cmap='hsv')\n",
    "\n",
    "cbar = plt.colorbar()\n",
    "plt.scatter(track[0:wlkr_range-1,0],track[0:wlkr_range-1,1])\n",
    "#plt.scatter(start, dest)\n",
    "print(start)\n",
    "print(dest)\n",
    "plt.show()\n"
   ]
  },
  {
   "cell_type": "code",
   "execution_count": null,
   "metadata": {},
   "outputs": [],
   "source": [
    "#plot_path3()"
   ]
  },
  {
   "cell_type": "code",
   "execution_count": null,
   "metadata": {},
   "outputs": [],
   "source": [
    "#Integrate z, trapezoid rule eq 20\n",
    "# def calc_tr():\n",
    "#    global xi,yi,TrailPotential,expdist,z,Weight,Nx,Ny\n",
    "#    for xi in range(0,Nx): \n",
    "#        for yi in range(0,Ny):\n",
    "#            TrailPotential[xi,yi]=np.sum(expdist[Nx-1-xi:2*Nx-1-xi,Ny-1-yi:2*Ny-1-yi]*z[:,:]*Weight[:,:])"
   ]
  }
 ],
 "metadata": {
  "interpreter": {
   "hash": "fe44fef87f92f48a3a32707d0df204585f471652bc0ce87358a3ce712bc24db0"
  },
  "kernelspec": {
   "display_name": "Python 3.9.7 64-bit",
   "name": "python3"
  },
  "language_info": {
   "codemirror_mode": {
    "name": "ipython",
    "version": 3
   },
   "file_extension": ".py",
   "mimetype": "text/x-python",
   "name": "python",
   "nbconvert_exporter": "python",
   "pygments_lexer": "ipython3",
   "version": "3.9.8"
  }
 },
 "nbformat": 4,
 "nbformat_minor": 2
}
